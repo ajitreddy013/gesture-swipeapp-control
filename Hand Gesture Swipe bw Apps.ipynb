{
 "cells": [
  {
   "cell_type": "code",
   "execution_count": null,
   "id": "af3dbeb2-e902-4e66-845c-ed2e33a7db3f",
   "metadata": {},
   "outputs": [
    {
     "name": "stderr",
     "output_type": "stream",
     "text": [
      "WARNING: All log messages before absl::InitializeLog() is called are written to STDERR\n",
      "I0000 00:00:1751889030.484968  805591 gl_context.cc:369] GL version: 2.1 (2.1 Metal - 89.4), renderer: Apple M2\n",
      "INFO: Created TensorFlow Lite XNNPACK delegate for CPU.\n",
      "W0000 00:00:1751889030.554997  805728 inference_feedback_manager.cc:114] Feedback manager requires a model with a single signature inference. Disabling support for feedback tensors.\n",
      "W0000 00:00:1751889030.566306  805728 inference_feedback_manager.cc:114] Feedback manager requires a model with a single signature inference. Disabling support for feedback tensors.\n",
      "W0000 00:00:1751889060.026287  805732 landmark_projection_calculator.cc:186] Using NORM_RECT without IMAGE_DIMENSIONS is only supported for the square ROI. Provide IMAGE_DIMENSIONS or use PROJECTION_MATRIX.\n",
      "36:66: execution error: System Events got an error: osascript is not allowed to send keystrokes. (1002)\n"
     ]
    },
    {
     "name": "stdout",
     "output_type": "stream",
     "text": [
      "Switched to next app\n",
      "Switched to previous app\n",
      "Switched to next app\n",
      "Switched to previous app\n",
      "Switched to previous app\n",
      "Switched to next app\n",
      "Switched to previous app\n",
      "Switched to next app\n",
      "Switched to previous app\n",
      "Switched to next app\n",
      "Switched to previous app\n",
      "Switched to next app\n",
      "Switched to next app\n",
      "Switched to next app\n",
      "Switched to previous app\n",
      "Switched to next app\n",
      "Switched to previous app\n",
      "Switched to next app\n",
      "Switched to previous app\n",
      "Switched to next app\n",
      "Switched to next app\n",
      "Switched to previous app\n",
      "Switched to previous app\n",
      "Switched to previous app\n",
      "Switched to next app\n"
     ]
    },
    {
     "ename": "KeyboardInterrupt",
     "evalue": "",
     "output_type": "error",
     "traceback": [
      "\u001b[0;31m---------------------------------------------------------------------------\u001b[0m",
      "\u001b[0;31mKeyboardInterrupt\u001b[0m                         Traceback (most recent call last)",
      "Cell \u001b[0;32mIn[1], line 29\u001b[0m\n\u001b[1;32m     26\u001b[0m cap \u001b[38;5;241m=\u001b[39m cv2\u001b[38;5;241m.\u001b[39mVideoCapture(\u001b[38;5;241m0\u001b[39m)\n\u001b[1;32m     28\u001b[0m \u001b[38;5;28;01mwhile\u001b[39;00m cap\u001b[38;5;241m.\u001b[39misOpened():\n\u001b[0;32m---> 29\u001b[0m     ret, frame \u001b[38;5;241m=\u001b[39m cap\u001b[38;5;241m.\u001b[39mread()\n\u001b[1;32m     30\u001b[0m     \u001b[38;5;28;01mif\u001b[39;00m \u001b[38;5;129;01mnot\u001b[39;00m ret:\n\u001b[1;32m     31\u001b[0m         \u001b[38;5;28;01mbreak\u001b[39;00m\n",
      "\u001b[0;31mKeyboardInterrupt\u001b[0m: "
     ]
    },
    {
     "ename": "",
     "evalue": "",
     "output_type": "error",
     "traceback": [
      "\u001b[1;31mThe Kernel crashed while executing code in the current cell or a previous cell. \n",
      "\u001b[1;31mPlease review the code in the cell(s) to identify a possible cause of the failure. \n",
      "\u001b[1;31mClick <a href='https://aka.ms/vscodeJupyterKernelCrash'>here</a> for more info. \n",
      "\u001b[1;31mView Jupyter <a href='command:jupyter.viewOutput'>log</a> for further details."
     ]
    }
   ],
   "source": [
    "import cv2\n",
    "import mediapipe as mp\n",
    "import numpy as np\n",
    "import subprocess\n",
    "import time\n",
    "\n",
    "# Initialize MediaPipe Hands\n",
    "mp_hands = mp.solutions.hands\n",
    "mp_drawing = mp.solutions.drawing_utils\n",
    "hands = mp_hands.Hands(min_detection_confidence=0.7, min_tracking_confidence=0.7)\n",
    "\n",
    "# Store previous hand position\n",
    "prev_x = None\n",
    "last_switch_time = time.time()\n",
    "\n",
    "# Function to switch apps using AppleScript\n",
    "def switch_app(direction):\n",
    "    if direction == \"right\":  # Next app (Cmd + Tab)\n",
    "        script = 'tell application \"System Events\" to key code 48 using command down'\n",
    "    elif direction == \"left\":  # Previous app (Cmd + Shift + Tab)\n",
    "        script = 'tell application \"System Events\" to key code 48 using {command down, shift down}'\n",
    "    \n",
    "    subprocess.run([\"osascript\", \"-e\", script])\n",
    "\n",
    "# Start Video Capture\n",
    "cap = cv2.VideoCapture(0)\n",
    "\n",
    "while cap.isOpened():\n",
    "    ret, frame = cap.read()\n",
    "    if not ret:\n",
    "        break\n",
    "\n",
    "    # Convert BGR to RGB for MediaPipe\n",
    "    rgb_frame = cv2.cvtColor(frame, cv2.COLOR_BGR2RGB)\n",
    "    results = hands.process(rgb_frame)\n",
    "\n",
    "    if results.multi_hand_landmarks:\n",
    "        for hand_landmarks in results.multi_hand_landmarks:\n",
    "            mp_drawing.draw_landmarks(frame, hand_landmarks, mp_hands.HAND_CONNECTIONS)\n",
    "\n",
    "            # Get landmark for the index finger tip\n",
    "            index_tip = hand_landmarks.landmark[mp_hands.HandLandmark.INDEX_FINGER_TIP]\n",
    "\n",
    "            # Convert to pixel coordinates\n",
    "            h, w, _ = frame.shape\n",
    "            x = int(index_tip.x * w)\n",
    "\n",
    "            # Detect swipe gesture\n",
    "            if prev_x is not None:\n",
    "                movement = x - prev_x\n",
    "\n",
    "                if abs(movement) > 100 and (time.time() - last_switch_time) > 1:  # Avoid fast switching\n",
    "                    if movement > 0:\n",
    "                        switch_app(\"right\")  # Swipe right → Next app\n",
    "                        print(\"Switched to next app\")\n",
    "                    else:\n",
    "                        switch_app(\"left\")  # Swipe left → Previous app\n",
    "                        print(\"Switched to previous app\")\n",
    "\n",
    "                    last_switch_time = time.time()\n",
    "\n",
    "            prev_x = x  # Update previous position\n",
    "\n",
    "    # Show Camera Feed\n",
    "    cv2.imshow(\"Hand Gesture App Switcher\", frame)\n",
    "\n",
    "    # Exit when 'q' is pressed\n",
    "    if cv2.waitKey(1) & 0xFF == ord('q'):\n",
    "        break\n",
    "\n",
    "cap.release()\n",
    "cv2.destroyAllWindows()\n"
   ]
  },
  {
   "cell_type": "code",
   "execution_count": null,
   "id": "6666c653-a7ec-4f79-9906-6c8129144497",
   "metadata": {},
   "outputs": [],
   "source": []
  }
 ],
 "metadata": {
  "kernelspec": {
   "display_name": "base",
   "language": "python",
   "name": "python3"
  },
  "language_info": {
   "codemirror_mode": {
    "name": "ipython",
    "version": 3
   },
   "file_extension": ".py",
   "mimetype": "text/x-python",
   "name": "python",
   "nbconvert_exporter": "python",
   "pygments_lexer": "ipython3",
   "version": "3.12.7"
  }
 },
 "nbformat": 4,
 "nbformat_minor": 5
}
